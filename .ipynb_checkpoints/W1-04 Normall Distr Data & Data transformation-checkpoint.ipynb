{
 "cells": [
  {
   "cell_type": "code",
   "execution_count": 80,
   "metadata": {},
   "outputs": [],
   "source": [
    "import pandas as pd\n",
    "import numpy as np\n",
    "import matplotlib.pyplot as plt\n",
    "import seaborn as sns\n",
    "%matplotlib inline"
   ]
  },
  {
   "cell_type": "code",
   "execution_count": 81,
   "metadata": {
    "scrolled": true
   },
   "outputs": [
    {
     "data": {
      "text/html": [
       "<div>\n",
       "<style scoped>\n",
       "    .dataframe tbody tr th:only-of-type {\n",
       "        vertical-align: middle;\n",
       "    }\n",
       "\n",
       "    .dataframe tbody tr th {\n",
       "        vertical-align: top;\n",
       "    }\n",
       "\n",
       "    .dataframe thead th {\n",
       "        text-align: right;\n",
       "    }\n",
       "</style>\n",
       "<table border=\"1\" class=\"dataframe\">\n",
       "  <thead>\n",
       "    <tr style=\"text-align: right;\">\n",
       "      <th></th>\n",
       "      <th>HV1</th>\n",
       "      <th>IC1</th>\n",
       "      <th>IC2</th>\n",
       "      <th>IC3</th>\n",
       "      <th>IC4</th>\n",
       "      <th>IC5</th>\n",
       "      <th>AVGGIFT</th>\n",
       "      <th>TARGET_D</th>\n",
       "    </tr>\n",
       "  </thead>\n",
       "  <tbody>\n",
       "    <tr>\n",
       "      <th>0</th>\n",
       "      <td>2346</td>\n",
       "      <td>420</td>\n",
       "      <td>446</td>\n",
       "      <td>468</td>\n",
       "      <td>503</td>\n",
       "      <td>14552</td>\n",
       "      <td>15.500000</td>\n",
       "      <td>21.0</td>\n",
       "    </tr>\n",
       "    <tr>\n",
       "      <th>1</th>\n",
       "      <td>497</td>\n",
       "      <td>350</td>\n",
       "      <td>364</td>\n",
       "      <td>357</td>\n",
       "      <td>384</td>\n",
       "      <td>11696</td>\n",
       "      <td>3.080000</td>\n",
       "      <td>3.0</td>\n",
       "    </tr>\n",
       "    <tr>\n",
       "      <th>2</th>\n",
       "      <td>1229</td>\n",
       "      <td>469</td>\n",
       "      <td>502</td>\n",
       "      <td>507</td>\n",
       "      <td>544</td>\n",
       "      <td>17313</td>\n",
       "      <td>7.500000</td>\n",
       "      <td>20.0</td>\n",
       "    </tr>\n",
       "    <tr>\n",
       "      <th>3</th>\n",
       "      <td>325</td>\n",
       "      <td>148</td>\n",
       "      <td>181</td>\n",
       "      <td>171</td>\n",
       "      <td>209</td>\n",
       "      <td>6334</td>\n",
       "      <td>6.700000</td>\n",
       "      <td>5.0</td>\n",
       "    </tr>\n",
       "    <tr>\n",
       "      <th>4</th>\n",
       "      <td>768</td>\n",
       "      <td>174</td>\n",
       "      <td>201</td>\n",
       "      <td>220</td>\n",
       "      <td>249</td>\n",
       "      <td>7802</td>\n",
       "      <td>8.785714</td>\n",
       "      <td>10.0</td>\n",
       "    </tr>\n",
       "  </tbody>\n",
       "</table>\n",
       "</div>"
      ],
      "text/plain": [
       "    HV1  IC1  IC2  IC3  IC4    IC5    AVGGIFT  TARGET_D\n",
       "0  2346  420  446  468  503  14552  15.500000      21.0\n",
       "1   497  350  364  357  384  11696   3.080000       3.0\n",
       "2  1229  469  502  507  544  17313   7.500000      20.0\n",
       "3   325  148  181  171  209   6334   6.700000       5.0\n",
       "4   768  174  201  220  249   7802   8.785714      10.0"
      ]
     },
     "execution_count": 81,
     "metadata": {},
     "output_type": "execute_result"
    }
   ],
   "source": [
    "data = pd.read_csv('/Users/joangalibrull/Downloads/regression_data1.csv')\n",
    "data.head()"
   ]
  },
  {
   "cell_type": "markdown",
   "metadata": {},
   "source": [
    "ACTIVITY 1\n",
    "\n",
    "1.Draw a box plot for the IC2.\n",
    "2.Print the descriptive statistics for IC2.\n",
    "3.Remove the outliers from the column IC2."
   ]
  },
  {
   "cell_type": "code",
   "execution_count": 82,
   "metadata": {
    "scrolled": true
   },
   "outputs": [
    {
     "data": {
      "image/png": "[encoded data removed]",
      "text/plain": [
       "<Figure size 432x288 with 1 Axes>"
      ]
     },
     "metadata": {
      "needs_background": "light"
     },
     "output_type": "display_data"
    }
   ],
   "source": [
    "#1.Draw a box plot for the IC2.\n",
    "# data = data[(data['IC1']<lower_limit) & (data['IC1'])]\n",
    "# sns.displot\n",
    "sns.boxplot(x=data['IC2'])\n",
    "plt.show()"
   ]
  },
  {
   "cell_type": "code",
   "execution_count": 83,
   "metadata": {
    "scrolled": true
   },
   "outputs": [
    {
     "data": {
      "text/plain": [
       "count    4843.000000\n",
       "mean      401.913690\n",
       "std       182.660078\n",
       "min         0.000000\n",
       "25%       283.000000\n",
       "50%       366.000000\n",
       "75%       481.000000\n",
       "max      1500.000000\n",
       "Name: IC2, dtype: float64"
      ]
     },
     "execution_count": 83,
     "metadata": {},
     "output_type": "execute_result"
    }
   ],
   "source": [
    "#2.Print the descriptive statistics for IC2.\n",
    "data['IC2'].describe()"
   ]
  },
  {
   "cell_type": "code",
   "execution_count": 84,
   "metadata": {},
   "outputs": [
    {
     "data": {
      "image/png": "[encoded data removed]",
      "text/plain": [
       "<Figure size 360x360 with 1 Axes>"
      ]
     },
     "metadata": {
      "needs_background": "light"
     },
     "output_type": "display_data"
    }
   ],
   "source": [
    "#3.Remove the outliers from the column IC2.\n",
    "iqr = np.percentile(data['IC1'],75) - np.percentile(data['IC1'],25)\n",
    "upper_limit = np.percentile(data['IC1'],75) + 1.5*iqr\n",
    "lower_limit = np.percentile(data['IC1'],25) - 1.5*iqr\n",
    "data = data[(data['IC1']>lower_limit) & (data['IC1']<upper_limit)]\n",
    "sns.displot(data['IC1'])\n",
    "plt.show()"
   ]
  },
  {
   "cell_type": "code",
   "execution_count": 85,
   "metadata": {},
   "outputs": [],
   "source": [
    "#End Activity1"
   ]
  },
  {
   "cell_type": "code",
   "execution_count": null,
   "metadata": {},
   "outputs": [],
   "source": []
  },
  {
   "cell_type": "markdown",
   "metadata": {},
   "source": [
    "Two features:\n",
    "    1. number of children (1,10)\n",
    "    2. income (0-milions)\n",
    "    \n",
    "Objective: get them both into similar ranges"
   ]
  },
  {
   "cell_type": "code",
   "execution_count": 86,
   "metadata": {
    "scrolled": true
   },
   "outputs": [
    {
     "name": "stderr",
     "output_type": "stream",
     "text": [
      "<ipython-input-86-682e7f7652d5>:5: RuntimeWarning: divide by zero encountered in log10\n",
      "  x = np.log10(x)\n"
     ]
    },
    {
     "data": {
      "image/png": "[encoded data removed]",
      "text/plain": [
       "<Figure size 360x360 with 1 Axes>"
      ]
     },
     "metadata": {
      "needs_background": "light"
     },
     "output_type": "display_data"
    }
   ],
   "source": [
    "# We can use 10log to get the income into a similar range as the n of children\n",
    "# We will use Log transofmration: reduce range of 0 - 100000 to range of 0-5\n",
    "\n",
    "def log_transform_clean(x):\n",
    "    x = np.log10(x)\n",
    "    if np.isfinite(x):\n",
    "        return x\n",
    "    else:\n",
    "        return 0\n",
    "    \n",
    "data['HV1_log'] = list(map(log_transform_clean, data['HV1']))       \n",
    "sns.displot(data['HV1_log'])\n",
    "plt.show()"
   ]
  },
  {
   "cell_type": "code",
   "execution_count": 87,
   "metadata": {},
   "outputs": [
    {
     "name": "stderr",
     "output_type": "stream",
     "text": [
      "<ipython-input-87-f14695edd9ab>:5: RuntimeWarning: divide by zero encountered in log10\n",
      "  x = np.log10(x)\n"
     ]
    },
    {
     "data": {
      "image/png": "[encoded data removed]",
      "text/plain": [
       "<Figure size 360x360 with 1 Axes>"
      ]
     },
     "metadata": {
      "needs_background": "light"
     },
     "output_type": "display_data"
    }
   ],
   "source": [
    "# If there is a nul value, we can use the \"fillna\" function \n",
    "#to replace it by a value.\n",
    "\n",
    "def log_transform_clean1(x):\n",
    "    x = np.log10(x)\n",
    "    if np.isfinite(x):\n",
    "        return x\n",
    "    else:\n",
    "        return np.NAN\n",
    "data['HV1_log'] = list(map(log_transform_clean1, data['HV1']))\n",
    "\n",
    "####  Look at Jan notes on how to fillna function   ####\n",
    "\n",
    "sns.displot(data['HV1_log'])\n",
    "plt.show()\n"
   ]
  },
  {
   "cell_type": "markdown",
   "metadata": {},
   "source": [
    "ACTIVITY 2\n",
    "\n",
    "1.Repeat the process(log transformation) for the column IC3. Define the function again yourself.\n",
    "\n",
    "2.Remove the tails of the transformed column to make it closer to the normal distribution. This time change the factor from 1.5 to 3 when calculating the upper limit and the lower limit. Check the distribution plot. Does it remove the tails effectively? If not change the factor back to 1.5 and see the results."
   ]
  },
  {
   "cell_type": "code",
   "execution_count": 88,
   "metadata": {
    "scrolled": false
   },
   "outputs": [
    {
     "name": "stderr",
     "output_type": "stream",
     "text": [
      "<ipython-input-88-461ca384a037>:4: RuntimeWarning: divide by zero encountered in log10\n",
      "  x = np.log10(x)   #it is needed to put all the features in the same scale\n"
     ]
    },
    {
     "data": {
      "image/png": "[encoded data removed]",
      "text/plain": [
       "<Figure size 360x360 with 1 Axes>"
      ]
     },
     "metadata": {
      "needs_background": "light"
     },
     "output_type": "display_data"
    }
   ],
   "source": [
    "# 1.Repeat the process(log transformation) for the column IC3. \n",
    "#Define the function again yourself.\n",
    "def log_transform_clean1(x):\n",
    "    x = np.log10(x)   #it is needed to put all the features in the same scale\n",
    "    if np.isfinite(x):\n",
    "        return x\n",
    "    else:\n",
    "        return 0\n",
    "    \n",
    "data['IC3_log'] = list(map(log_transform_clean1, data['IC3']))\n",
    "           \n",
    "sns.displot(data['IC3'])\n",
    "plt.show()"
   ]
  },
  {
   "cell_type": "code",
   "execution_count": 89,
   "metadata": {
    "scrolled": true
   },
   "outputs": [
    {
     "data": {
      "image/png": "[encoded data removed]",
      "text/plain": [
       "<Figure size 360x360 with 1 Axes>"
      ]
     },
     "metadata": {
      "needs_background": "light"
     },
     "output_type": "display_data"
    }
   ],
   "source": [
    "# 2.Remove the tails of the transformed column to make it closer to \n",
    "#the normal distribution. This time change the factor from 1.5 to 3 \n",
    "#when calculating the upper limit and the lower limit. \n",
    "# Check the distribution plot. Does it remove the tails effectively? \n",
    "# If not change the factor back to 1.5 and see the results.\n",
    "\n",
    "iqr1 = np.percentile(data['IC3_log'],75) - np.percentile(data['IC3_log'],25)\n",
    "upper_limit = np.percentile(data['IC3_log'],75) + 3*iqr1\n",
    "lower_limit = np.percentile(data['IC3_log'],25) - 3*iqr1\n",
    "data = data[(data['IC3_log']>lower_limit) & (data['IC3_log']<upper_limit)]\n",
    "sns.displot(data['IC3_log'])\n",
    "plt.show()"
   ]
  },
  {
   "cell_type": "code",
   "execution_count": null,
   "metadata": {},
   "outputs": [],
   "source": []
  },
  {
   "cell_type": "code",
   "execution_count": 106,
   "metadata": {},
   "outputs": [],
   "source": [
    " # BoxCox transformation - another way to get data in the normalized form"
   ]
  },
  {
   "cell_type": "code",
   "execution_count": 90,
   "metadata": {},
   "outputs": [
    {
     "data": {
      "image/png": "[encoded data removed]",
      "text/plain": [
       "<Figure size 360x360 with 1 Axes>"
      ]
     },
     "metadata": {
      "needs_background": "light"
     },
     "output_type": "display_data"
    }
   ],
   "source": [
    "# BoxCox does not like negative values (all values should be +)\n",
    "# Since median household income, we can filter out negative values:\n",
    "# if you do not want to lose this data, replate 0s with the mean of the column\n",
    "len(data[data['IC1']<=0])\n",
    "data['IC1_'] = np.where(data['IC1']<=0,0,data['IC1']) #np.where replaces ic1 that are negative with 0, others stay the same\n",
    "\n",
    "# now calculation of the mean new column, excluding the zeros in the count\n",
    "mean = np.sum(data['IC1_'])/len(data[data['IC1_']>0])\n",
    "\n",
    "# replacing negative values with the mean\n",
    "data['IC1_'] = data['IC1_'].replace(0,mean) \n",
    "\n",
    "sns.displot(data['IC1_'])\n",
    "plt.show()"
   ]
  },
  {
   "cell_type": "code",
   "execution_count": 91,
   "metadata": {},
   "outputs": [
    {
     "data": {
      "image/png": "[encoded data removed]",
      "text/plain": [
       "<Figure size 360x360 with 1 Axes>"
      ]
     },
     "metadata": {
      "needs_background": "light"
     },
     "output_type": "display_data"
    }
   ],
   "source": [
    "#Make it Normal Distribution and reduce the scale of the values\n",
    "\n",
    "from scipy import stats\n",
    "xt, lmbda = stats.boxcox(data['IC1_'])\n",
    "sns.displot(xt)\n",
    "plt.show()\n",
    "#name for the output values"
   ]
  },
  {
   "cell_type": "markdown",
   "metadata": {},
   "source": [
    "ACTIVITY 3\n",
    "1. Repeat the same steps for column IC5 for box-cox transformation."
   ]
  },
  {
   "cell_type": "code",
   "execution_count": 92,
   "metadata": {
    "scrolled": true
   },
   "outputs": [
    {
     "data": {
      "image/png": "[encoded data removed]",
      "text/plain": [
       "<Figure size 360x360 with 1 Axes>"
      ]
     },
     "metadata": {
      "needs_background": "light"
     },
     "output_type": "display_data"
    }
   ],
   "source": [
    "len(data[data['IC5']<=0])\n",
    "data['IC5_'] = np.where(data['IC5']<=0,0,data['IC5']) \n",
    "#np.where replaces ic5 that are negative with 0, from our data.\n",
    "\n",
    "# now calculation of the mean new column, excluding the zeros in the count\n",
    "mean = np.sum(data['IC5_'])/len(data[data['IC5_']>0])\n",
    "\n",
    "# replace the 0 values with the mean\n",
    "data['IC5_'] = data['IC5_'].replace(0,mean)\n",
    "\n",
    "sns.displot(data['IC5_'])\n",
    "plt.show()"
   ]
  },
  {
   "cell_type": "code",
   "execution_count": 93,
   "metadata": {
    "scrolled": true
   },
   "outputs": [
    {
     "data": {
      "image/png": "[encoded data removed]",
      "text/plain": [
       "<Figure size 360x360 with 1 Axes>"
      ]
     },
     "metadata": {
      "needs_background": "light"
     },
     "output_type": "display_data"
    }
   ],
   "source": [
    "from scipy import stats #contain statisticals method like boxplox\n",
    "data = data.drop(['IC5'], axis=1)\n",
    "#we delete the IC5 columns bc we the new IC5_ column\n",
    "#which has no 0 nor negative values.\n",
    "\n",
    "xt2, lmbda2 = stats.boxcox(data['IC5_'])\n",
    "#We need a second variable\n",
    "\n",
    "sns.displot(xt2)\n",
    "plt.show()"
   ]
  },
  {
   "cell_type": "code",
   "execution_count": 100,
   "metadata": {},
   "outputs": [
    {
     "data": {
      "text/html": [
       "<div>\n",
       "<style scoped>\n",
       "    .dataframe tbody tr th:only-of-type {\n",
       "        vertical-align: middle;\n",
       "    }\n",
       "\n",
       "    .dataframe tbody tr th {\n",
       "        vertical-align: top;\n",
       "    }\n",
       "\n",
       "    .dataframe thead th {\n",
       "        text-align: right;\n",
       "    }\n",
       "</style>\n",
       "<table border=\"1\" class=\"dataframe\">\n",
       "  <thead>\n",
       "    <tr style=\"text-align: right;\">\n",
       "      <th></th>\n",
       "      <th>HV1</th>\n",
       "      <th>IC2</th>\n",
       "      <th>IC3</th>\n",
       "      <th>IC4</th>\n",
       "      <th>AVGGIFT</th>\n",
       "      <th>TARGET_D</th>\n",
       "      <th>HV1_log</th>\n",
       "      <th>IC3_log</th>\n",
       "      <th>IC1_transformed</th>\n",
       "      <th>IC5_transformed</th>\n",
       "      <th>IC1_boxcoxtransformed</th>\n",
       "      <th>IC5_boxcoxtransformed</th>\n",
       "    </tr>\n",
       "  </thead>\n",
       "  <tbody>\n",
       "    <tr>\n",
       "      <th>0</th>\n",
       "      <td>2346</td>\n",
       "      <td>446</td>\n",
       "      <td>468</td>\n",
       "      <td>503</td>\n",
       "      <td>15.500000</td>\n",
       "      <td>21.0</td>\n",
       "      <td>3.370328</td>\n",
       "      <td>2.670246</td>\n",
       "      <td>16.640264</td>\n",
       "      <td>4.135749</td>\n",
       "      <td>16.640264</td>\n",
       "      <td>4.135749</td>\n",
       "    </tr>\n",
       "    <tr>\n",
       "      <th>1</th>\n",
       "      <td>497</td>\n",
       "      <td>364</td>\n",
       "      <td>357</td>\n",
       "      <td>384</td>\n",
       "      <td>3.080000</td>\n",
       "      <td>3.0</td>\n",
       "      <td>2.696356</td>\n",
       "      <td>2.552668</td>\n",
       "      <td>15.596224</td>\n",
       "      <td>4.105672</td>\n",
       "      <td>15.596224</td>\n",
       "      <td>4.105672</td>\n",
       "    </tr>\n",
       "    <tr>\n",
       "      <th>2</th>\n",
       "      <td>1229</td>\n",
       "      <td>502</td>\n",
       "      <td>507</td>\n",
       "      <td>544</td>\n",
       "      <td>7.500000</td>\n",
       "      <td>20.0</td>\n",
       "      <td>3.089552</td>\n",
       "      <td>2.705008</td>\n",
       "      <td>17.299821</td>\n",
       "      <td>4.158703</td>\n",
       "      <td>17.299821</td>\n",
       "      <td>4.158703</td>\n",
       "    </tr>\n",
       "    <tr>\n",
       "      <th>3</th>\n",
       "      <td>325</td>\n",
       "      <td>181</td>\n",
       "      <td>171</td>\n",
       "      <td>209</td>\n",
       "      <td>6.700000</td>\n",
       "      <td>5.0</td>\n",
       "      <td>2.511883</td>\n",
       "      <td>2.232996</td>\n",
       "      <td>11.355808</td>\n",
       "      <td>4.013508</td>\n",
       "      <td>11.355808</td>\n",
       "      <td>4.013508</td>\n",
       "    </tr>\n",
       "    <tr>\n",
       "      <th>4</th>\n",
       "      <td>768</td>\n",
       "      <td>201</td>\n",
       "      <td>220</td>\n",
       "      <td>249</td>\n",
       "      <td>8.785714</td>\n",
       "      <td>10.0</td>\n",
       "      <td>2.885361</td>\n",
       "      <td>2.342423</td>\n",
       "      <td>12.073626</td>\n",
       "      <td>4.046167</td>\n",
       "      <td>12.073626</td>\n",
       "      <td>4.046167</td>\n",
       "    </tr>\n",
       "  </tbody>\n",
       "</table>\n",
       "</div>"
      ],
      "text/plain": [
       "    HV1  IC2  IC3  IC4    AVGGIFT  TARGET_D   HV1_log   IC3_log  \\\n",
       "0  2346  446  468  503  15.500000      21.0  3.370328  2.670246   \n",
       "1   497  364  357  384   3.080000       3.0  2.696356  2.552668   \n",
       "2  1229  502  507  544   7.500000      20.0  3.089552  2.705008   \n",
       "3   325  181  171  209   6.700000       5.0  2.511883  2.232996   \n",
       "4   768  201  220  249   8.785714      10.0  2.885361  2.342423   \n",
       "\n",
       "   IC1_transformed  IC5_transformed  IC1_boxcoxtransformed  \\\n",
       "0        16.640264         4.135749              16.640264   \n",
       "1        15.596224         4.105672              15.596224   \n",
       "2        17.299821         4.158703              17.299821   \n",
       "3        11.355808         4.013508              11.355808   \n",
       "4        12.073626         4.046167              12.073626   \n",
       "\n",
       "   IC5_boxcoxtransformed  \n",
       "0               4.135749  \n",
       "1               4.105672  \n",
       "2               4.158703  \n",
       "3               4.013508  \n",
       "4               4.046167  "
      ]
     },
     "execution_count": 100,
     "metadata": {},
     "output_type": "execute_result"
    }
   ],
   "source": [
    "data['IC1_boxcoxtransformed'] = xt\n",
    "data['IC5_boxcoxtransformed'] = xt2\n",
    "#data = data.drop(['IC1_','IC5_','IC1',], axis=1)\n",
    "#already droped but lost it.\n",
    "data.head()"
   ]
  },
  {
   "cell_type": "code",
   "execution_count": null,
   "metadata": {},
   "outputs": [],
   "source": []
  },
  {
   "cell_type": "code",
   "execution_count": 101,
   "metadata": {},
   "outputs": [],
   "source": [
    " # Normalizing and Scaling transformations\n",
    "    \n",
    "#Normalizing: They either reduce the scale of a figure\n",
    "#Scaling Look like a normal distribution"
   ]
  },
  {
   "cell_type": "code",
   "execution_count": 110,
   "metadata": {},
   "outputs": [],
   "source": [
    "from sklearn.preprocessing import MinMaxScaler\n",
    "from sklearn.preprocessing import StandardScaler\n",
    "\n",
    "data = pd.read_csv('/Users/joangalibrull/Downloads/regression_data1.csv')"
   ]
  },
  {
   "cell_type": "code",
   "execution_count": 104,
   "metadata": {},
   "outputs": [
    {
     "data": {
      "text/plain": [
       "count    4843.000000\n",
       "mean     1163.701425\n",
       "std      1032.104682\n",
       "min         0.000000\n",
       "25%       548.000000\n",
       "50%       809.000000\n",
       "75%      1367.500000\n",
       "max      5982.000000\n",
       "Name: HV1, dtype: float64"
      ]
     },
     "execution_count": 104,
     "metadata": {},
     "output_type": "execute_result"
    }
   ],
   "source": [
    "data['HV1'].describe()"
   ]
  },
  {
   "cell_type": "code",
   "execution_count": 105,
   "metadata": {},
   "outputs": [],
   "source": [
    "# Normalizing maps the minimum value to 0, the maximum\n",
    "#to 1 and make sure all the other values range between is\n",
    "#kept in swing."
   ]
  },
  {
   "cell_type": "code",
   "execution_count": 107,
   "metadata": {},
   "outputs": [
    {
     "data": {
      "image/png": "[encoded data removed]",
      "text/plain": [
       "<Figure size 360x360 with 1 Axes>"
      ]
     },
     "metadata": {
      "needs_background": "light"
     },
     "output_type": "display_data"
    }
   ],
   "source": [
    "sns.displot(data['HV1'])\n",
    "plt.show()"
   ]
  },
  {
   "cell_type": "code",
   "execution_count": 108,
   "metadata": {},
   "outputs": [],
   "source": [
    "# Standard Scaler subtracts from each value the mean value\n",
    "# It maps things from -3 to 3, not from 0 to 1 like Normalizing"
   ]
  },
  {
   "cell_type": "markdown",
   "metadata": {},
   "source": [
    "Let's try both data transformation methods"
   ]
  },
  {
   "cell_type": "code",
   "execution_count": 111,
   "metadata": {},
   "outputs": [],
   "source": [
    "Y = data['TARGET_D']\n",
    "X = data.drop(['TARGET_D'], axis=1) #everything else apart from target\n",
    "X_num = X.select_dtypes(include = np.number)\n",
    "X_cat = X.select_dtypes(include = np.object)"
   ]
  },
  {
   "cell_type": "code",
   "execution_count": 114,
   "metadata": {},
   "outputs": [
    {
     "data": {
      "text/html": [
       "<div>\n",
       "<style scoped>\n",
       "    .dataframe tbody tr th:only-of-type {\n",
       "        vertical-align: middle;\n",
       "    }\n",
       "\n",
       "    .dataframe tbody tr th {\n",
       "        vertical-align: top;\n",
       "    }\n",
       "\n",
       "    .dataframe thead th {\n",
       "        text-align: right;\n",
       "    }\n",
       "</style>\n",
       "<table border=\"1\" class=\"dataframe\">\n",
       "  <thead>\n",
       "    <tr style=\"text-align: right;\">\n",
       "      <th></th>\n",
       "      <th>HV1</th>\n",
       "      <th>IC1</th>\n",
       "      <th>IC2</th>\n",
       "      <th>IC3</th>\n",
       "      <th>IC4</th>\n",
       "      <th>IC5</th>\n",
       "      <th>AVGGIFT</th>\n",
       "    </tr>\n",
       "  </thead>\n",
       "  <tbody>\n",
       "    <tr>\n",
       "      <th>0</th>\n",
       "      <td>2346</td>\n",
       "      <td>420</td>\n",
       "      <td>446</td>\n",
       "      <td>468</td>\n",
       "      <td>503</td>\n",
       "      <td>14552</td>\n",
       "      <td>15.500000</td>\n",
       "    </tr>\n",
       "    <tr>\n",
       "      <th>1</th>\n",
       "      <td>497</td>\n",
       "      <td>350</td>\n",
       "      <td>364</td>\n",
       "      <td>357</td>\n",
       "      <td>384</td>\n",
       "      <td>11696</td>\n",
       "      <td>3.080000</td>\n",
       "    </tr>\n",
       "    <tr>\n",
       "      <th>2</th>\n",
       "      <td>1229</td>\n",
       "      <td>469</td>\n",
       "      <td>502</td>\n",
       "      <td>507</td>\n",
       "      <td>544</td>\n",
       "      <td>17313</td>\n",
       "      <td>7.500000</td>\n",
       "    </tr>\n",
       "    <tr>\n",
       "      <th>3</th>\n",
       "      <td>325</td>\n",
       "      <td>148</td>\n",
       "      <td>181</td>\n",
       "      <td>171</td>\n",
       "      <td>209</td>\n",
       "      <td>6334</td>\n",
       "      <td>6.700000</td>\n",
       "    </tr>\n",
       "    <tr>\n",
       "      <th>4</th>\n",
       "      <td>768</td>\n",
       "      <td>174</td>\n",
       "      <td>201</td>\n",
       "      <td>220</td>\n",
       "      <td>249</td>\n",
       "      <td>7802</td>\n",
       "      <td>8.785714</td>\n",
       "    </tr>\n",
       "    <tr>\n",
       "      <th>...</th>\n",
       "      <td>...</td>\n",
       "      <td>...</td>\n",
       "      <td>...</td>\n",
       "      <td>...</td>\n",
       "      <td>...</td>\n",
       "      <td>...</td>\n",
       "      <td>...</td>\n",
       "    </tr>\n",
       "    <tr>\n",
       "      <th>4838</th>\n",
       "      <td>701</td>\n",
       "      <td>297</td>\n",
       "      <td>335</td>\n",
       "      <td>405</td>\n",
       "      <td>468</td>\n",
       "      <td>15258</td>\n",
       "      <td>15.500000</td>\n",
       "    </tr>\n",
       "    <tr>\n",
       "      <th>4839</th>\n",
       "      <td>3357</td>\n",
       "      <td>284</td>\n",
       "      <td>455</td>\n",
       "      <td>343</td>\n",
       "      <td>447</td>\n",
       "      <td>24240</td>\n",
       "      <td>11.857143</td>\n",
       "    </tr>\n",
       "    <tr>\n",
       "      <th>4840</th>\n",
       "      <td>700</td>\n",
       "      <td>322</td>\n",
       "      <td>415</td>\n",
       "      <td>356</td>\n",
       "      <td>446</td>\n",
       "      <td>14360</td>\n",
       "      <td>11.333333</td>\n",
       "    </tr>\n",
       "    <tr>\n",
       "      <th>4841</th>\n",
       "      <td>601</td>\n",
       "      <td>206</td>\n",
       "      <td>225</td>\n",
       "      <td>251</td>\n",
       "      <td>289</td>\n",
       "      <td>9801</td>\n",
       "      <td>13.000000</td>\n",
       "    </tr>\n",
       "    <tr>\n",
       "      <th>4842</th>\n",
       "      <td>919</td>\n",
       "      <td>425</td>\n",
       "      <td>562</td>\n",
       "      <td>558</td>\n",
       "      <td>697</td>\n",
       "      <td>25784</td>\n",
       "      <td>17.923077</td>\n",
       "    </tr>\n",
       "  </tbody>\n",
       "</table>\n",
       "<p>4843 rows × 7 columns</p>\n",
       "</div>"
      ],
      "text/plain": [
       "       HV1  IC1  IC2  IC3  IC4    IC5    AVGGIFT\n",
       "0     2346  420  446  468  503  14552  15.500000\n",
       "1      497  350  364  357  384  11696   3.080000\n",
       "2     1229  469  502  507  544  17313   7.500000\n",
       "3      325  148  181  171  209   6334   6.700000\n",
       "4      768  174  201  220  249   7802   8.785714\n",
       "...    ...  ...  ...  ...  ...    ...        ...\n",
       "4838   701  297  335  405  468  15258  15.500000\n",
       "4839  3357  284  455  343  447  24240  11.857143\n",
       "4840   700  322  415  356  446  14360  11.333333\n",
       "4841   601  206  225  251  289   9801  13.000000\n",
       "4842   919  425  562  558  697  25784  17.923077\n",
       "\n",
       "[4843 rows x 7 columns]"
      ]
     },
     "execution_count": 114,
     "metadata": {},
     "output_type": "execute_result"
    }
   ],
   "source": [
    "X"
   ]
  },
  {
   "cell_type": "code",
   "execution_count": 118,
   "metadata": {},
   "outputs": [
    {
     "name": "stdout",
     "output_type": "stream",
     "text": [
      "(4843, 7)\n"
     ]
    },
    {
     "data": {
      "text/html": [
       "<div>\n",
       "<style scoped>\n",
       "    .dataframe tbody tr th:only-of-type {\n",
       "        vertical-align: middle;\n",
       "    }\n",
       "\n",
       "    .dataframe tbody tr th {\n",
       "        vertical-align: top;\n",
       "    }\n",
       "\n",
       "    .dataframe thead th {\n",
       "        text-align: right;\n",
       "    }\n",
       "</style>\n",
       "<table border=\"1\" class=\"dataframe\">\n",
       "  <thead>\n",
       "    <tr style=\"text-align: right;\">\n",
       "      <th></th>\n",
       "      <th>HV1</th>\n",
       "      <th>IC1</th>\n",
       "      <th>IC2</th>\n",
       "      <th>IC3</th>\n",
       "      <th>IC4</th>\n",
       "      <th>IC5</th>\n",
       "      <th>AVGGIFT</th>\n",
       "    </tr>\n",
       "  </thead>\n",
       "  <tbody>\n",
       "    <tr>\n",
       "      <th>0</th>\n",
       "      <td>0.158850</td>\n",
       "      <td>0.028439</td>\n",
       "      <td>0.030199</td>\n",
       "      <td>0.031689</td>\n",
       "      <td>0.034059</td>\n",
       "      <td>0.985333</td>\n",
       "      <td>0.001050</td>\n",
       "    </tr>\n",
       "    <tr>\n",
       "      <th>1</th>\n",
       "      <td>0.042373</td>\n",
       "      <td>0.029840</td>\n",
       "      <td>0.031034</td>\n",
       "      <td>0.030437</td>\n",
       "      <td>0.032739</td>\n",
       "      <td>0.997172</td>\n",
       "      <td>0.000263</td>\n",
       "    </tr>\n",
       "    <tr>\n",
       "      <th>2</th>\n",
       "      <td>0.070689</td>\n",
       "      <td>0.026976</td>\n",
       "      <td>0.028874</td>\n",
       "      <td>0.029161</td>\n",
       "      <td>0.031289</td>\n",
       "      <td>0.995797</td>\n",
       "      <td>0.000431</td>\n",
       "    </tr>\n",
       "    <tr>\n",
       "      <th>3</th>\n",
       "      <td>0.051162</td>\n",
       "      <td>0.023298</td>\n",
       "      <td>0.028493</td>\n",
       "      <td>0.026919</td>\n",
       "      <td>0.032901</td>\n",
       "      <td>0.997106</td>\n",
       "      <td>0.001055</td>\n",
       "    </tr>\n",
       "    <tr>\n",
       "      <th>4</th>\n",
       "      <td>0.097819</td>\n",
       "      <td>0.022162</td>\n",
       "      <td>0.025601</td>\n",
       "      <td>0.028021</td>\n",
       "      <td>0.031715</td>\n",
       "      <td>0.993727</td>\n",
       "      <td>0.001119</td>\n",
       "    </tr>\n",
       "    <tr>\n",
       "      <th>...</th>\n",
       "      <td>...</td>\n",
       "      <td>...</td>\n",
       "      <td>...</td>\n",
       "      <td>...</td>\n",
       "      <td>...</td>\n",
       "      <td>...</td>\n",
       "      <td>...</td>\n",
       "    </tr>\n",
       "    <tr>\n",
       "      <th>4838</th>\n",
       "      <td>0.045837</td>\n",
       "      <td>0.019420</td>\n",
       "      <td>0.021905</td>\n",
       "      <td>0.026482</td>\n",
       "      <td>0.030602</td>\n",
       "      <td>0.997699</td>\n",
       "      <td>0.001014</td>\n",
       "    </tr>\n",
       "    <tr>\n",
       "      <th>4839</th>\n",
       "      <td>0.137112</td>\n",
       "      <td>0.011600</td>\n",
       "      <td>0.018584</td>\n",
       "      <td>0.014009</td>\n",
       "      <td>0.018257</td>\n",
       "      <td>0.990046</td>\n",
       "      <td>0.000484</td>\n",
       "    </tr>\n",
       "    <tr>\n",
       "      <th>4840</th>\n",
       "      <td>0.048618</td>\n",
       "      <td>0.022364</td>\n",
       "      <td>0.028824</td>\n",
       "      <td>0.024726</td>\n",
       "      <td>0.030977</td>\n",
       "      <td>0.997363</td>\n",
       "      <td>0.000787</td>\n",
       "    </tr>\n",
       "    <tr>\n",
       "      <th>4841</th>\n",
       "      <td>0.061129</td>\n",
       "      <td>0.020953</td>\n",
       "      <td>0.022885</td>\n",
       "      <td>0.025530</td>\n",
       "      <td>0.029395</td>\n",
       "      <td>0.996887</td>\n",
       "      <td>0.001322</td>\n",
       "    </tr>\n",
       "    <tr>\n",
       "      <th>4842</th>\n",
       "      <td>0.035585</td>\n",
       "      <td>0.016457</td>\n",
       "      <td>0.021761</td>\n",
       "      <td>0.021607</td>\n",
       "      <td>0.026989</td>\n",
       "      <td>0.998396</td>\n",
       "      <td>0.000694</td>\n",
       "    </tr>\n",
       "  </tbody>\n",
       "</table>\n",
       "<p>4843 rows × 7 columns</p>\n",
       "</div>"
      ],
      "text/plain": [
       "           HV1       IC1       IC2       IC3       IC4       IC5   AVGGIFT\n",
       "0     0.158850  0.028439  0.030199  0.031689  0.034059  0.985333  0.001050\n",
       "1     0.042373  0.029840  0.031034  0.030437  0.032739  0.997172  0.000263\n",
       "2     0.070689  0.026976  0.028874  0.029161  0.031289  0.995797  0.000431\n",
       "3     0.051162  0.023298  0.028493  0.026919  0.032901  0.997106  0.001055\n",
       "4     0.097819  0.022162  0.025601  0.028021  0.031715  0.993727  0.001119\n",
       "...        ...       ...       ...       ...       ...       ...       ...\n",
       "4838  0.045837  0.019420  0.021905  0.026482  0.030602  0.997699  0.001014\n",
       "4839  0.137112  0.011600  0.018584  0.014009  0.018257  0.990046  0.000484\n",
       "4840  0.048618  0.022364  0.028824  0.024726  0.030977  0.997363  0.000787\n",
       "4841  0.061129  0.020953  0.022885  0.025530  0.029395  0.996887  0.001322\n",
       "4842  0.035585  0.016457  0.021761  0.021607  0.026989  0.998396  0.000694\n",
       "\n",
       "[4843 rows x 7 columns]"
      ]
     },
     "execution_count": 118,
     "metadata": {},
     "output_type": "execute_result"
    }
   ],
   "source": [
    "# MinMaxScaler data: make data range from 0 - 1, instead of from min to max\n",
    "#it doesn't care about normal distribution.\n",
    "\n",
    "\n",
    "#define a normalizer by calling it fit(X_num)\n",
    "transformer = MinMaxScaler().fit(X_num)\n",
    "#transform xnum\n",
    "x_normalized = transformer.transform(X_num)\n",
    "# We are applying the same transformation\n",
    "#to all the columns, however, we should transform\n",
    "#considering better the column values/type\n",
    "\n",
    "print(x_normalized.shape)\n",
    "pd.DataFrame(x_normalized, columns=X_num.columns)\n",
    "# typed columns=X_num.columns to keep the columns name"
   ]
  },
  {
   "cell_type": "code",
   "execution_count": 120,
   "metadata": {},
   "outputs": [
    {
     "name": "stdout",
     "output_type": "stream",
     "text": [
      "(4843, 7)\n"
     ]
    },
    {
     "data": {
      "text/html": [
       "<div>\n",
       "<style scoped>\n",
       "    .dataframe tbody tr th:only-of-type {\n",
       "        vertical-align: middle;\n",
       "    }\n",
       "\n",
       "    .dataframe tbody tr th {\n",
       "        vertical-align: top;\n",
       "    }\n",
       "\n",
       "    .dataframe thead th {\n",
       "        text-align: right;\n",
       "    }\n",
       "</style>\n",
       "<table border=\"1\" class=\"dataframe\">\n",
       "  <thead>\n",
       "    <tr style=\"text-align: right;\">\n",
       "      <th></th>\n",
       "      <th>HV1</th>\n",
       "      <th>IC1</th>\n",
       "      <th>IC2</th>\n",
       "      <th>IC3</th>\n",
       "      <th>IC4</th>\n",
       "      <th>IC5</th>\n",
       "      <th>AVGGIFT</th>\n",
       "    </tr>\n",
       "  </thead>\n",
       "  <tbody>\n",
       "    <tr>\n",
       "      <th>0</th>\n",
       "      <td>1.145640</td>\n",
       "      <td>0.392017</td>\n",
       "      <td>0.241382</td>\n",
       "      <td>0.402231</td>\n",
       "      <td>0.322435</td>\n",
       "      <td>-0.203394</td>\n",
       "      <td>0.361021</td>\n",
       "    </tr>\n",
       "    <tr>\n",
       "      <th>1</th>\n",
       "      <td>-0.646030</td>\n",
       "      <td>-0.016528</td>\n",
       "      <td>-0.207586</td>\n",
       "      <td>-0.263776</td>\n",
       "      <td>-0.351134</td>\n",
       "      <td>-0.504086</td>\n",
       "      <td>-0.862998</td>\n",
       "    </tr>\n",
       "    <tr>\n",
       "      <th>2</th>\n",
       "      <td>0.063274</td>\n",
       "      <td>0.677998</td>\n",
       "      <td>0.547994</td>\n",
       "      <td>0.636234</td>\n",
       "      <td>0.554505</td>\n",
       "      <td>0.087295</td>\n",
       "      <td>-0.427397</td>\n",
       "    </tr>\n",
       "    <tr>\n",
       "      <th>3</th>\n",
       "      <td>-0.812697</td>\n",
       "      <td>-1.195472</td>\n",
       "      <td>-1.209550</td>\n",
       "      <td>-1.379790</td>\n",
       "      <td>-1.341676</td>\n",
       "      <td>-1.068619</td>\n",
       "      <td>-0.506239</td>\n",
       "    </tr>\n",
       "    <tr>\n",
       "      <th>4</th>\n",
       "      <td>-0.383432</td>\n",
       "      <td>-1.043726</td>\n",
       "      <td>-1.100046</td>\n",
       "      <td>-1.085786</td>\n",
       "      <td>-1.115266</td>\n",
       "      <td>-0.914062</td>\n",
       "      <td>-0.300687</td>\n",
       "    </tr>\n",
       "    <tr>\n",
       "      <th>...</th>\n",
       "      <td>...</td>\n",
       "      <td>...</td>\n",
       "      <td>...</td>\n",
       "      <td>...</td>\n",
       "      <td>...</td>\n",
       "      <td>...</td>\n",
       "      <td>...</td>\n",
       "    </tr>\n",
       "    <tr>\n",
       "      <th>4838</th>\n",
       "      <td>-0.448355</td>\n",
       "      <td>-0.325855</td>\n",
       "      <td>-0.366367</td>\n",
       "      <td>0.024227</td>\n",
       "      <td>0.124327</td>\n",
       "      <td>-0.129064</td>\n",
       "      <td>0.361021</td>\n",
       "    </tr>\n",
       "    <tr>\n",
       "      <th>4839</th>\n",
       "      <td>2.125293</td>\n",
       "      <td>-0.401727</td>\n",
       "      <td>0.290659</td>\n",
       "      <td>-0.347777</td>\n",
       "      <td>0.005462</td>\n",
       "      <td>0.816598</td>\n",
       "      <td>0.002009</td>\n",
       "    </tr>\n",
       "    <tr>\n",
       "      <th>4840</th>\n",
       "      <td>-0.449324</td>\n",
       "      <td>-0.179946</td>\n",
       "      <td>0.071650</td>\n",
       "      <td>-0.269776</td>\n",
       "      <td>-0.000199</td>\n",
       "      <td>-0.223609</td>\n",
       "      <td>-0.049613</td>\n",
       "    </tr>\n",
       "    <tr>\n",
       "      <th>4841</th>\n",
       "      <td>-0.545254</td>\n",
       "      <td>-0.856963</td>\n",
       "      <td>-0.968641</td>\n",
       "      <td>-0.899784</td>\n",
       "      <td>-0.888857</td>\n",
       "      <td>-0.703599</td>\n",
       "      <td>0.114640</td>\n",
       "    </tr>\n",
       "    <tr>\n",
       "      <th>4842</th>\n",
       "      <td>-0.237114</td>\n",
       "      <td>0.421198</td>\n",
       "      <td>0.876507</td>\n",
       "      <td>0.942238</td>\n",
       "      <td>1.420522</td>\n",
       "      <td>0.979157</td>\n",
       "      <td>0.599821</td>\n",
       "    </tr>\n",
       "  </tbody>\n",
       "</table>\n",
       "<p>4843 rows × 7 columns</p>\n",
       "</div>"
      ],
      "text/plain": [
       "           HV1       IC1       IC2       IC3       IC4       IC5   AVGGIFT\n",
       "0     1.145640  0.392017  0.241382  0.402231  0.322435 -0.203394  0.361021\n",
       "1    -0.646030 -0.016528 -0.207586 -0.263776 -0.351134 -0.504086 -0.862998\n",
       "2     0.063274  0.677998  0.547994  0.636234  0.554505  0.087295 -0.427397\n",
       "3    -0.812697 -1.195472 -1.209550 -1.379790 -1.341676 -1.068619 -0.506239\n",
       "4    -0.383432 -1.043726 -1.100046 -1.085786 -1.115266 -0.914062 -0.300687\n",
       "...        ...       ...       ...       ...       ...       ...       ...\n",
       "4838 -0.448355 -0.325855 -0.366367  0.024227  0.124327 -0.129064  0.361021\n",
       "4839  2.125293 -0.401727  0.290659 -0.347777  0.005462  0.816598  0.002009\n",
       "4840 -0.449324 -0.179946  0.071650 -0.269776 -0.000199 -0.223609 -0.049613\n",
       "4841 -0.545254 -0.856963 -0.968641 -0.899784 -0.888857 -0.703599  0.114640\n",
       "4842 -0.237114  0.421198  0.876507  0.942238  1.420522  0.979157  0.599821\n",
       "\n",
       "[4843 rows x 7 columns]"
      ]
     },
     "execution_count": 120,
     "metadata": {},
     "output_type": "execute_result"
    }
   ],
   "source": [
    "# Scaling Standard Scaler: make data normal distributed with mean=0 and std=1\n",
    "\n",
    "\n",
    "transformer = StandardScaler().fit(X_num)\n",
    "x_standardized = transformer.transform(X_num)\n",
    "print(x_standardized.shape)\n",
    "pd.DataFrame(x_standardized, columns=X_num.columns)"
   ]
  },
  {
   "cell_type": "markdown",
   "metadata": {},
   "source": [
    "Use this techniques to improve the signal (algorithms)\n",
    "have an easy time.\n",
    "\n",
    "## Rules of thumb\n",
    "- If I'm talking about the future, what matters is if the values is very extrem, then use the Standar Scaler. It will take the more extrem values.\n",
    "\n",
    "- If the feature is to understand how far away is a piece of information from others, use Normalizer as we can compare easiy, 0-1."
   ]
  },
  {
   "cell_type": "markdown",
   "metadata": {},
   "source": [
    "ACTIVITY 4\n",
    "\n",
    "1.Load data regression_data.csv again\n",
    "\n",
    "2.Select 3 numeric columns.\n",
    "\n",
    "3.Plot distributions.\n",
    "\n",
    "4.Normalize. (use normalizer)\n",
    "\n",
    "5.Plot new distributions."
   ]
  },
  {
   "cell_type": "code",
   "execution_count": 147,
   "metadata": {},
   "outputs": [],
   "source": [
    "from sklearn.preprocessing import MinMaxScaler\n",
    "from sklearn.preprocessing import StandardScaler\n",
    "\n",
    "data = pd.read_csv('/Users/joangalibrull/Downloads/regression_data.csv')"
   ]
  },
  {
   "cell_type": "code",
   "execution_count": 148,
   "metadata": {},
   "outputs": [
    {
     "data": {
      "text/html": [
       "<div>\n",
       "<style scoped>\n",
       "    .dataframe tbody tr th:only-of-type {\n",
       "        vertical-align: middle;\n",
       "    }\n",
       "\n",
       "    .dataframe tbody tr th {\n",
       "        vertical-align: top;\n",
       "    }\n",
       "\n",
       "    .dataframe thead th {\n",
       "        text-align: right;\n",
       "    }\n",
       "</style>\n",
       "<table border=\"1\" class=\"dataframe\">\n",
       "  <thead>\n",
       "    <tr style=\"text-align: right;\">\n",
       "      <th></th>\n",
       "      <th>HV1</th>\n",
       "      <th>IC1</th>\n",
       "      <th>IC2</th>\n",
       "      <th>IC3</th>\n",
       "      <th>IC4</th>\n",
       "      <th>IC5</th>\n",
       "      <th>AVGGIFT</th>\n",
       "      <th>TARGET_D</th>\n",
       "    </tr>\n",
       "  </thead>\n",
       "  <tbody>\n",
       "    <tr>\n",
       "      <th>0</th>\n",
       "      <td>2000.0</td>\n",
       "      <td>458</td>\n",
       "      <td>453</td>\n",
       "      <td>495</td>\n",
       "      <td>469.0</td>\n",
       "      <td>19217</td>\n",
       "      <td>13.511111</td>\n",
       "      <td>38.0</td>\n",
       "    </tr>\n",
       "    <tr>\n",
       "      <th>1</th>\n",
       "      <td>817.0</td>\n",
       "      <td>213</td>\n",
       "      <td>256</td>\n",
       "      <td>240</td>\n",
       "      <td>236.0</td>\n",
       "      <td>8518</td>\n",
       "      <td>12.222222</td>\n",
       "      <td>10.0</td>\n",
       "    </tr>\n",
       "    <tr>\n",
       "      <th>2</th>\n",
       "      <td>1866.0</td>\n",
       "      <td>405</td>\n",
       "      <td>423</td>\n",
       "      <td>394</td>\n",
       "      <td>407.0</td>\n",
       "      <td>15709</td>\n",
       "      <td>23.857143</td>\n",
       "      <td>37.0</td>\n",
       "    </tr>\n",
       "    <tr>\n",
       "      <th>3</th>\n",
       "      <td>1174.0</td>\n",
       "      <td>268</td>\n",
       "      <td>282</td>\n",
       "      <td>298</td>\n",
       "      <td>283.0</td>\n",
       "      <td>10427</td>\n",
       "      <td>10.400000</td>\n",
       "      <td>12.0</td>\n",
       "    </tr>\n",
       "    <tr>\n",
       "      <th>4</th>\n",
       "      <td>3048.0</td>\n",
       "      <td>470</td>\n",
       "      <td>557</td>\n",
       "      <td>562</td>\n",
       "      <td>530.0</td>\n",
       "      <td>31631</td>\n",
       "      <td>8.222222</td>\n",
       "      <td>15.0</td>\n",
       "    </tr>\n",
       "  </tbody>\n",
       "</table>\n",
       "</div>"
      ],
      "text/plain": [
       "      HV1  IC1  IC2  IC3    IC4    IC5    AVGGIFT  TARGET_D\n",
       "0  2000.0  458  453  495  469.0  19217  13.511111      38.0\n",
       "1   817.0  213  256  240  236.0   8518  12.222222      10.0\n",
       "2  1866.0  405  423  394  407.0  15709  23.857143      37.0\n",
       "3  1174.0  268  282  298  283.0  10427  10.400000      12.0\n",
       "4  3048.0  470  557  562  530.0  31631   8.222222      15.0"
      ]
     },
     "execution_count": 148,
     "metadata": {},
     "output_type": "execute_result"
    }
   ],
   "source": [
    "data.head()"
   ]
  },
  {
   "cell_type": "code",
   "execution_count": 149,
   "metadata": {
    "scrolled": true
   },
   "outputs": [
    {
     "data": {
      "text/html": [
       "<div>\n",
       "<style scoped>\n",
       "    .dataframe tbody tr th:only-of-type {\n",
       "        vertical-align: middle;\n",
       "    }\n",
       "\n",
       "    .dataframe tbody tr th {\n",
       "        vertical-align: top;\n",
       "    }\n",
       "\n",
       "    .dataframe thead th {\n",
       "        text-align: right;\n",
       "    }\n",
       "</style>\n",
       "<table border=\"1\" class=\"dataframe\">\n",
       "  <thead>\n",
       "    <tr style=\"text-align: right;\">\n",
       "      <th></th>\n",
       "      <th>HV1</th>\n",
       "      <th>IC2</th>\n",
       "      <th>AVGGIFT</th>\n",
       "    </tr>\n",
       "  </thead>\n",
       "  <tbody>\n",
       "    <tr>\n",
       "      <th>0</th>\n",
       "      <td>2000.0</td>\n",
       "      <td>453</td>\n",
       "      <td>13.511111</td>\n",
       "    </tr>\n",
       "    <tr>\n",
       "      <th>1</th>\n",
       "      <td>817.0</td>\n",
       "      <td>256</td>\n",
       "      <td>12.222222</td>\n",
       "    </tr>\n",
       "    <tr>\n",
       "      <th>2</th>\n",
       "      <td>1866.0</td>\n",
       "      <td>423</td>\n",
       "      <td>23.857143</td>\n",
       "    </tr>\n",
       "    <tr>\n",
       "      <th>3</th>\n",
       "      <td>1174.0</td>\n",
       "      <td>282</td>\n",
       "      <td>10.400000</td>\n",
       "    </tr>\n",
       "    <tr>\n",
       "      <th>4</th>\n",
       "      <td>3048.0</td>\n",
       "      <td>557</td>\n",
       "      <td>8.222222</td>\n",
       "    </tr>\n",
       "    <tr>\n",
       "      <th>...</th>\n",
       "      <td>...</td>\n",
       "      <td>...</td>\n",
       "      <td>...</td>\n",
       "    </tr>\n",
       "    <tr>\n",
       "      <th>995</th>\n",
       "      <td>1837.0</td>\n",
       "      <td>409</td>\n",
       "      <td>11.333333</td>\n",
       "    </tr>\n",
       "    <tr>\n",
       "      <th>996</th>\n",
       "      <td>1591.0</td>\n",
       "      <td>472</td>\n",
       "      <td>15.000000</td>\n",
       "    </tr>\n",
       "    <tr>\n",
       "      <th>997</th>\n",
       "      <td>632.0</td>\n",
       "      <td>246</td>\n",
       "      <td>8.142857</td>\n",
       "    </tr>\n",
       "    <tr>\n",
       "      <th>998</th>\n",
       "      <td>583.0</td>\n",
       "      <td>274</td>\n",
       "      <td>3.687500</td>\n",
       "    </tr>\n",
       "    <tr>\n",
       "      <th>999</th>\n",
       "      <td>1100.0</td>\n",
       "      <td>438</td>\n",
       "      <td>12.055556</td>\n",
       "    </tr>\n",
       "  </tbody>\n",
       "</table>\n",
       "<p>1000 rows × 3 columns</p>\n",
       "</div>"
      ],
      "text/plain": [
       "        HV1  IC2    AVGGIFT\n",
       "0    2000.0  453  13.511111\n",
       "1     817.0  256  12.222222\n",
       "2    1866.0  423  23.857143\n",
       "3    1174.0  282  10.400000\n",
       "4    3048.0  557   8.222222\n",
       "..      ...  ...        ...\n",
       "995  1837.0  409  11.333333\n",
       "996  1591.0  472  15.000000\n",
       "997   632.0  246   8.142857\n",
       "998   583.0  274   3.687500\n",
       "999  1100.0  438  12.055556\n",
       "\n",
       "[1000 rows x 3 columns]"
      ]
     },
     "execution_count": 149,
     "metadata": {},
     "output_type": "execute_result"
    }
   ],
   "source": [
    "# 2.Select 3 numeric columns.\n",
    "data1 = data[['HV1','IC2','AVGGIFT']]\n",
    "data1"
   ]
  },
  {
   "cell_type": "code",
   "execution_count": 150,
   "metadata": {},
   "outputs": [
    {
     "data": {
      "image/png": "[encoded data removed]",
      "text/plain": [
       "<Figure size 439.125x360 with 1 Axes>"
      ]
     },
     "metadata": {
      "needs_background": "light"
     },
     "output_type": "display_data"
    }
   ],
   "source": [
    "#3.Plot distributions.\n",
    "\n",
    "sns.displot(data1)\n",
    "plt.show()"
   ]
  },
  {
   "cell_type": "code",
   "execution_count": 152,
   "metadata": {},
   "outputs": [
    {
     "name": "stdout",
     "output_type": "stream",
     "text": [
      "(1000, 3)\n"
     ]
    },
    {
     "data": {
      "text/html": [
       "<div>\n",
       "<style scoped>\n",
       "    .dataframe tbody tr th:only-of-type {\n",
       "        vertical-align: middle;\n",
       "    }\n",
       "\n",
       "    .dataframe tbody tr th {\n",
       "        vertical-align: top;\n",
       "    }\n",
       "\n",
       "    .dataframe thead th {\n",
       "        text-align: right;\n",
       "    }\n",
       "</style>\n",
       "<table border=\"1\" class=\"dataframe\">\n",
       "  <thead>\n",
       "    <tr style=\"text-align: right;\">\n",
       "      <th></th>\n",
       "      <th>HV1</th>\n",
       "      <th>IC2</th>\n",
       "      <th>AVGGIFT</th>\n",
       "    </tr>\n",
       "  </thead>\n",
       "  <tbody>\n",
       "    <tr>\n",
       "      <th>0</th>\n",
       "      <td>0.267071</td>\n",
       "      <td>0.302000</td>\n",
       "      <td>0.228814</td>\n",
       "    </tr>\n",
       "    <tr>\n",
       "      <th>1</th>\n",
       "      <td>0.096290</td>\n",
       "      <td>0.170667</td>\n",
       "      <td>0.202600</td>\n",
       "    </tr>\n",
       "    <tr>\n",
       "      <th>2</th>\n",
       "      <td>0.247726</td>\n",
       "      <td>0.282000</td>\n",
       "      <td>0.439237</td>\n",
       "    </tr>\n",
       "    <tr>\n",
       "      <th>3</th>\n",
       "      <td>0.147827</td>\n",
       "      <td>0.188000</td>\n",
       "      <td>0.165538</td>\n",
       "    </tr>\n",
       "    <tr>\n",
       "      <th>4</th>\n",
       "      <td>0.418363</td>\n",
       "      <td>0.371333</td>\n",
       "      <td>0.121245</td>\n",
       "    </tr>\n",
       "    <tr>\n",
       "      <th>...</th>\n",
       "      <td>...</td>\n",
       "      <td>...</td>\n",
       "      <td>...</td>\n",
       "    </tr>\n",
       "    <tr>\n",
       "      <th>995</th>\n",
       "      <td>0.243540</td>\n",
       "      <td>0.272667</td>\n",
       "      <td>0.184521</td>\n",
       "    </tr>\n",
       "    <tr>\n",
       "      <th>996</th>\n",
       "      <td>0.208027</td>\n",
       "      <td>0.314667</td>\n",
       "      <td>0.259096</td>\n",
       "    </tr>\n",
       "    <tr>\n",
       "      <th>997</th>\n",
       "      <td>0.069583</td>\n",
       "      <td>0.164000</td>\n",
       "      <td>0.119631</td>\n",
       "    </tr>\n",
       "    <tr>\n",
       "      <th>998</th>\n",
       "      <td>0.062509</td>\n",
       "      <td>0.182667</td>\n",
       "      <td>0.029016</td>\n",
       "    </tr>\n",
       "    <tr>\n",
       "      <th>999</th>\n",
       "      <td>0.137145</td>\n",
       "      <td>0.292000</td>\n",
       "      <td>0.199210</td>\n",
       "    </tr>\n",
       "  </tbody>\n",
       "</table>\n",
       "<p>1000 rows × 3 columns</p>\n",
       "</div>"
      ],
      "text/plain": [
       "          HV1       IC2   AVGGIFT\n",
       "0    0.267071  0.302000  0.228814\n",
       "1    0.096290  0.170667  0.202600\n",
       "2    0.247726  0.282000  0.439237\n",
       "3    0.147827  0.188000  0.165538\n",
       "4    0.418363  0.371333  0.121245\n",
       "..        ...       ...       ...\n",
       "995  0.243540  0.272667  0.184521\n",
       "996  0.208027  0.314667  0.259096\n",
       "997  0.069583  0.164000  0.119631\n",
       "998  0.062509  0.182667  0.029016\n",
       "999  0.137145  0.292000  0.199210\n",
       "\n",
       "[1000 rows x 3 columns]"
      ]
     },
     "execution_count": 152,
     "metadata": {},
     "output_type": "execute_result"
    }
   ],
   "source": [
    "# 4.Normalize. (use MinMaxScaler)\n",
    "transformer = MinMaxScaler().fit(data1)\n",
    "\n",
    "data1_normalized = transformer.transform(data1)\n",
    "print(data1_normalized.shape)\n",
    "pd.DataFrame(data1_normalized, columns=data1.columns)"
   ]
  },
  {
   "cell_type": "code",
   "execution_count": null,
   "metadata": {},
   "outputs": [],
   "source": [
    "# Plot new distributions.\n",
    "\n",
    "sns.displot(data1_normalized)\n",
    "plt.show()"
   ]
  },
  {
   "cell_type": "markdown",
   "metadata": {},
   "source": [
    "# MinMax Scale changes de values to 0 - 1 but it doesn't change the shape of the plot"
   ]
  },
  {
   "cell_type": "code",
   "execution_count": null,
   "metadata": {},
   "outputs": [],
   "source": []
  }
 ],
 "metadata": {
  "kernelspec": {
   "display_name": "Python 3",
   "language": "python",
   "name": "python3"
  },
  "language_info": {
   "codemirror_mode": {
    "name": "ipython",
    "version": 3
   },
   "file_extension": ".py",
   "mimetype": "text/x-python",
   "name": "python",
   "nbconvert_exporter": "python",
   "pygments_lexer": "ipython3",
   "version": "3.8.5"
  }
 },
 "nbformat": 4,
 "nbformat_minor": 4
}
